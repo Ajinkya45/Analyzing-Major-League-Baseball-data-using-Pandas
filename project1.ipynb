{
 "cells": [
  {
   "cell_type": "code",
   "execution_count": 1,
   "metadata": {
    "collapsed": true
   },
   "outputs": [],
   "source": [
    "# Loading libraries\n",
    "import pandas as pd\n",
    "import numpy as np"
   ]
  },
  {
   "cell_type": "code",
   "execution_count": 2,
   "metadata": {
    "collapsed": true
   },
   "outputs": [],
   "source": [
    "# reading batting.csv\n",
    "batting = pd.read_csv('Batting.csv')"
   ]
  },
  {
   "cell_type": "markdown",
   "metadata": {},
   "source": [
    "## Dimension and info about data"
   ]
  },
  {
   "cell_type": "code",
   "execution_count": 3,
   "metadata": {},
   "outputs": [
    {
     "data": {
      "text/plain": [
       "(102816, 25)"
      ]
     },
     "execution_count": 3,
     "metadata": {},
     "output_type": "execute_result"
    }
   ],
   "source": [
    "# count of rows and columns in data set\n",
    "batting.shape"
   ]
  },
  {
   "cell_type": "code",
   "execution_count": 4,
   "metadata": {},
   "outputs": [
    {
     "data": {
      "text/plain": [
       "RangeIndex(start=0, stop=102816, step=1)"
      ]
     },
     "execution_count": 4,
     "metadata": {},
     "output_type": "execute_result"
    }
   ],
   "source": [
    "# index info for data set\n",
    "batting.index"
   ]
  },
  {
   "cell_type": "code",
   "execution_count": 5,
   "metadata": {},
   "outputs": [
    {
     "data": {
      "text/plain": [
       "Index(['playerID', 'nameFirst', 'nameLast', 'birthYear', 'yearID', 'stint',\n",
       "       'teamID', 'lgID', 'G', 'AB', 'R', 'H', '2B', '3B', 'HR', 'RBI', 'SB',\n",
       "       'CS', 'BB', 'SO', 'IBB', 'HBP', 'SH', 'SF', 'GIDP'],\n",
       "      dtype='object')"
      ]
     },
     "execution_count": 5,
     "metadata": {},
     "output_type": "execute_result"
    }
   ],
   "source": [
    "# Displaying column names for data set\n",
    "batting.columns"
   ]
  },
  {
   "cell_type": "code",
   "execution_count": 6,
   "metadata": {},
   "outputs": [
    {
     "name": "stdout",
     "output_type": "stream",
     "text": [
      "<class 'pandas.core.frame.DataFrame'>\n",
      "RangeIndex: 102816 entries, 0 to 102815\n",
      "Data columns (total 25 columns):\n",
      "playerID     102816 non-null object\n",
      "nameFirst    102816 non-null object\n",
      "nameLast     102816 non-null object\n",
      "birthYear    102816 non-null int64\n",
      "yearID       102816 non-null int64\n",
      "stint        102816 non-null int64\n",
      "teamID       102816 non-null object\n",
      "lgID         102079 non-null object\n",
      "G            102816 non-null int64\n",
      "AB           102816 non-null int64\n",
      "R            102816 non-null int64\n",
      "H            102816 non-null int64\n",
      "2B           102816 non-null int64\n",
      "3B           102816 non-null int64\n",
      "HR           102816 non-null int64\n",
      "RBI          102392 non-null float64\n",
      "SB           101516 non-null float64\n",
      "CS           79360 non-null float64\n",
      "BB           102816 non-null int64\n",
      "SO           94978 non-null float64\n",
      "IBB          66251 non-null float64\n",
      "HBP          100006 non-null float64\n",
      "SH           96478 non-null float64\n",
      "SF           66782 non-null float64\n",
      "GIDP         76706 non-null float64\n",
      "dtypes: float64(9), int64(11), object(5)\n",
      "memory usage: 19.6+ MB\n"
     ]
    }
   ],
   "source": [
    "# information about dat set\n",
    "batting.info()"
   ]
  },
  {
   "cell_type": "code",
   "execution_count": 7,
   "metadata": {},
   "outputs": [
    {
     "data": {
      "text/plain": [
       "playerID     102816\n",
       "nameFirst    102816\n",
       "nameLast     102816\n",
       "birthYear    102816\n",
       "yearID       102816\n",
       "stint        102816\n",
       "teamID       102816\n",
       "lgID         102079\n",
       "G            102816\n",
       "AB           102816\n",
       "R            102816\n",
       "H            102816\n",
       "2B           102816\n",
       "3B           102816\n",
       "HR           102816\n",
       "RBI          102392\n",
       "SB           101516\n",
       "CS            79360\n",
       "BB           102816\n",
       "SO            94978\n",
       "IBB           66251\n",
       "HBP          100006\n",
       "SH            96478\n",
       "SF            66782\n",
       "GIDP          76706\n",
       "dtype: int64"
      ]
     },
     "execution_count": 7,
     "metadata": {},
     "output_type": "execute_result"
    }
   ],
   "source": [
    "# count of non-NA value by each column\n",
    "batting.count()"
   ]
  },
  {
   "cell_type": "markdown",
   "metadata": {},
   "source": [
    "#### 3) How many players have hit 40 or more HRs in one single season? (Number only)"
   ]
  },
  {
   "cell_type": "code",
   "execution_count": 8,
   "metadata": {},
   "outputs": [
    {
     "data": {
      "text/plain": [
       "142"
      ]
     },
     "execution_count": 8,
     "metadata": {},
     "output_type": "execute_result"
    }
   ],
   "source": [
    "HRPlayerYear = batting.groupby(['yearID','playerID'])['HR'].sum().reset_index()\n",
    "HRPlayerYear[HRPlayerYear['HR'] >= 40]['playerID'].nunique()"
   ]
  },
  {
   "cell_type": "markdown",
   "metadata": {
    "collapsed": true
   },
   "source": [
    "#### 4)How many players have hit more than 600 HRs for their career? "
   ]
  },
  {
   "cell_type": "code",
   "execution_count": 9,
   "metadata": {},
   "outputs": [
    {
     "data": {
      "text/plain": [
       "8"
      ]
     },
     "execution_count": 9,
     "metadata": {},
     "output_type": "execute_result"
    }
   ],
   "source": [
    "HRPlayer = batting.groupby('playerID')['HR'].sum().reset_index()\n",
    "HRPlayer[HRPlayer['HR'] > 600]['playerID'].nunique()"
   ]
  },
  {
   "cell_type": "markdown",
   "metadata": {
    "collapsed": true
   },
   "source": [
    "#### 5)\tHow many players have hit 40 2Bs, 10 3Bs, 200 Hits, and 30 HRs (inclusive) in one season? "
   ]
  },
  {
   "cell_type": "code",
   "execution_count": 11,
   "metadata": {},
   "outputs": [
    {
     "data": {
      "text/plain": [
       "11"
      ]
     },
     "execution_count": 11,
     "metadata": {},
     "output_type": "execute_result"
    }
   ],
   "source": [
    "HRPlayerYear = batting.groupby(['yearID','playerID']).agg({\"HR\":\"sum\",\"2B\":\"sum\",\"3B\":\"sum\",\"H\":\"sum\"}).reset_index()\n",
    "shortlist = HRPlayerYear[(HRPlayerYear['2B']>=40) & (HRPlayerYear['3B']>=10) & (HRPlayerYear['H']>=200) & (HRPlayerYear['HR']>=30) ]\n",
    "shortlist['playerID'].nunique()"
   ]
  },
  {
   "cell_type": "markdown",
   "metadata": {
    "collapsed": true
   },
   "source": [
    "#### 6)\tHow many players have had 100 or more SBs in a season? "
   ]
  },
  {
   "cell_type": "code",
   "execution_count": 10,
   "metadata": {},
   "outputs": [
    {
     "data": {
      "text/html": [
       "<div>\n",
       "<style>\n",
       "    .dataframe thead tr:only-child th {\n",
       "        text-align: right;\n",
       "    }\n",
       "\n",
       "    .dataframe thead th {\n",
       "        text-align: left;\n",
       "    }\n",
       "\n",
       "    .dataframe tbody tr th {\n",
       "        vertical-align: top;\n",
       "    }\n",
       "</style>\n",
       "<table border=\"1\" class=\"dataframe\">\n",
       "  <thead>\n",
       "    <tr style=\"text-align: right;\">\n",
       "      <th></th>\n",
       "      <th>yearID</th>\n",
       "      <th>playerID</th>\n",
       "      <th>SB</th>\n",
       "    </tr>\n",
       "  </thead>\n",
       "  <tbody>\n",
       "    <tr>\n",
       "      <th>3138</th>\n",
       "      <td>1887</td>\n",
       "      <td>brownpe01</td>\n",
       "      <td>103.0</td>\n",
       "    </tr>\n",
       "    <tr>\n",
       "      <th>3165</th>\n",
       "      <td>1887</td>\n",
       "      <td>comisch01</td>\n",
       "      <td>117.0</td>\n",
       "    </tr>\n",
       "    <tr>\n",
       "      <th>3209</th>\n",
       "      <td>1887</td>\n",
       "      <td>fogarji01</td>\n",
       "      <td>102.0</td>\n",
       "    </tr>\n",
       "    <tr>\n",
       "      <th>3275</th>\n",
       "      <td>1887</td>\n",
       "      <td>lathaar01</td>\n",
       "      <td>129.0</td>\n",
       "    </tr>\n",
       "    <tr>\n",
       "      <th>3322</th>\n",
       "      <td>1887</td>\n",
       "      <td>nicolhu01</td>\n",
       "      <td>138.0</td>\n",
       "    </tr>\n",
       "    <tr>\n",
       "      <th>3414</th>\n",
       "      <td>1887</td>\n",
       "      <td>wardjo01</td>\n",
       "      <td>111.0</td>\n",
       "    </tr>\n",
       "    <tr>\n",
       "      <th>3609</th>\n",
       "      <td>1888</td>\n",
       "      <td>lathaar01</td>\n",
       "      <td>109.0</td>\n",
       "    </tr>\n",
       "    <tr>\n",
       "      <th>3645</th>\n",
       "      <td>1888</td>\n",
       "      <td>nicolhu01</td>\n",
       "      <td>103.0</td>\n",
       "    </tr>\n",
       "    <tr>\n",
       "      <th>3903</th>\n",
       "      <td>1889</td>\n",
       "      <td>hamilbi01</td>\n",
       "      <td>111.0</td>\n",
       "    </tr>\n",
       "    <tr>\n",
       "      <th>4276</th>\n",
       "      <td>1890</td>\n",
       "      <td>hamilbi01</td>\n",
       "      <td>102.0</td>\n",
       "    </tr>\n",
       "    <tr>\n",
       "      <th>4623</th>\n",
       "      <td>1891</td>\n",
       "      <td>brownto01</td>\n",
       "      <td>106.0</td>\n",
       "    </tr>\n",
       "    <tr>\n",
       "      <th>4748</th>\n",
       "      <td>1891</td>\n",
       "      <td>hamilbi01</td>\n",
       "      <td>111.0</td>\n",
       "    </tr>\n",
       "    <tr>\n",
       "      <th>39584</th>\n",
       "      <td>1962</td>\n",
       "      <td>willsma01</td>\n",
       "      <td>104.0</td>\n",
       "    </tr>\n",
       "    <tr>\n",
       "      <th>48070</th>\n",
       "      <td>1974</td>\n",
       "      <td>brocklo01</td>\n",
       "      <td>118.0</td>\n",
       "    </tr>\n",
       "    <tr>\n",
       "      <th>53543</th>\n",
       "      <td>1980</td>\n",
       "      <td>henderi01</td>\n",
       "      <td>100.0</td>\n",
       "    </tr>\n",
       "    <tr>\n",
       "      <th>55367</th>\n",
       "      <td>1982</td>\n",
       "      <td>henderi01</td>\n",
       "      <td>130.0</td>\n",
       "    </tr>\n",
       "    <tr>\n",
       "      <th>56318</th>\n",
       "      <td>1983</td>\n",
       "      <td>henderi01</td>\n",
       "      <td>108.0</td>\n",
       "    </tr>\n",
       "    <tr>\n",
       "      <th>58008</th>\n",
       "      <td>1985</td>\n",
       "      <td>colemvi01</td>\n",
       "      <td>110.0</td>\n",
       "    </tr>\n",
       "    <tr>\n",
       "      <th>58953</th>\n",
       "      <td>1986</td>\n",
       "      <td>colemvi01</td>\n",
       "      <td>107.0</td>\n",
       "    </tr>\n",
       "    <tr>\n",
       "      <th>59903</th>\n",
       "      <td>1987</td>\n",
       "      <td>colemvi01</td>\n",
       "      <td>109.0</td>\n",
       "    </tr>\n",
       "  </tbody>\n",
       "</table>\n",
       "</div>"
      ],
      "text/plain": [
       "       yearID   playerID     SB\n",
       "3138     1887  brownpe01  103.0\n",
       "3165     1887  comisch01  117.0\n",
       "3209     1887  fogarji01  102.0\n",
       "3275     1887  lathaar01  129.0\n",
       "3322     1887  nicolhu01  138.0\n",
       "3414     1887   wardjo01  111.0\n",
       "3609     1888  lathaar01  109.0\n",
       "3645     1888  nicolhu01  103.0\n",
       "3903     1889  hamilbi01  111.0\n",
       "4276     1890  hamilbi01  102.0\n",
       "4623     1891  brownto01  106.0\n",
       "4748     1891  hamilbi01  111.0\n",
       "39584    1962  willsma01  104.0\n",
       "48070    1974  brocklo01  118.0\n",
       "53543    1980  henderi01  100.0\n",
       "55367    1982  henderi01  130.0\n",
       "56318    1983  henderi01  108.0\n",
       "58008    1985  colemvi01  110.0\n",
       "58953    1986  colemvi01  107.0\n",
       "59903    1987  colemvi01  109.0"
      ]
     },
     "execution_count": 10,
     "metadata": {},
     "output_type": "execute_result"
    }
   ],
   "source": [
    "HRPlayerYear = batting.groupby(['yearID','playerID'])['SB'].sum().reset_index()\n",
    "HRPlayerYear[HRPlayerYear['SB'] >= 100]"
   ]
  },
  {
   "cell_type": "markdown",
   "metadata": {
    "collapsed": true
   },
   "source": [
    "#### 7)\tHow many players in the 1960s have hit more than 200 HRs? "
   ]
  },
  {
   "cell_type": "code",
   "execution_count": 12,
   "metadata": {},
   "outputs": [
    {
     "data": {
      "text/html": [
       "<div>\n",
       "<style>\n",
       "    .dataframe thead tr:only-child th {\n",
       "        text-align: right;\n",
       "    }\n",
       "\n",
       "    .dataframe thead th {\n",
       "        text-align: left;\n",
       "    }\n",
       "\n",
       "    .dataframe tbody tr th {\n",
       "        vertical-align: top;\n",
       "    }\n",
       "</style>\n",
       "<table border=\"1\" class=\"dataframe\">\n",
       "  <thead>\n",
       "    <tr style=\"text-align: right;\">\n",
       "      <th></th>\n",
       "      <th>playerID</th>\n",
       "      <th>HR</th>\n",
       "    </tr>\n",
       "  </thead>\n",
       "  <tbody>\n",
       "    <tr>\n",
       "      <th>0</th>\n",
       "      <td>aaronha01</td>\n",
       "      <td>375</td>\n",
       "    </tr>\n",
       "    <tr>\n",
       "      <th>19</th>\n",
       "      <td>allisbo01</td>\n",
       "      <td>225</td>\n",
       "    </tr>\n",
       "    <tr>\n",
       "      <th>70</th>\n",
       "      <td>bankser01</td>\n",
       "      <td>269</td>\n",
       "    </tr>\n",
       "    <tr>\n",
       "      <th>279</th>\n",
       "      <td>cashno01</td>\n",
       "      <td>278</td>\n",
       "    </tr>\n",
       "    <tr>\n",
       "      <th>283</th>\n",
       "      <td>cepedor01</td>\n",
       "      <td>254</td>\n",
       "    </tr>\n",
       "    <tr>\n",
       "      <th>323</th>\n",
       "      <td>colavro01</td>\n",
       "      <td>245</td>\n",
       "    </tr>\n",
       "    <tr>\n",
       "      <th>751</th>\n",
       "      <td>howarfr01</td>\n",
       "      <td>288</td>\n",
       "    </tr>\n",
       "    <tr>\n",
       "      <th>830</th>\n",
       "      <td>kalinal01</td>\n",
       "      <td>210</td>\n",
       "    </tr>\n",
       "    <tr>\n",
       "      <th>856</th>\n",
       "      <td>killeha01</td>\n",
       "      <td>393</td>\n",
       "    </tr>\n",
       "    <tr>\n",
       "      <th>1009</th>\n",
       "      <td>mantlmi01</td>\n",
       "      <td>256</td>\n",
       "    </tr>\n",
       "    <tr>\n",
       "      <th>1014</th>\n",
       "      <td>marisro01</td>\n",
       "      <td>217</td>\n",
       "    </tr>\n",
       "    <tr>\n",
       "      <th>1031</th>\n",
       "      <td>matheed01</td>\n",
       "      <td>213</td>\n",
       "    </tr>\n",
       "    <tr>\n",
       "      <th>1044</th>\n",
       "      <td>mayswi01</td>\n",
       "      <td>350</td>\n",
       "    </tr>\n",
       "    <tr>\n",
       "      <th>1057</th>\n",
       "      <td>mccovwi01</td>\n",
       "      <td>300</td>\n",
       "    </tr>\n",
       "    <tr>\n",
       "      <th>1296</th>\n",
       "      <td>powelbo01</td>\n",
       "      <td>202</td>\n",
       "    </tr>\n",
       "    <tr>\n",
       "      <th>1372</th>\n",
       "      <td>robinfr02</td>\n",
       "      <td>316</td>\n",
       "    </tr>\n",
       "    <tr>\n",
       "      <th>1428</th>\n",
       "      <td>santoro01</td>\n",
       "      <td>253</td>\n",
       "    </tr>\n",
       "    <tr>\n",
       "      <th>1730</th>\n",
       "      <td>willibi01</td>\n",
       "      <td>249</td>\n",
       "    </tr>\n",
       "    <tr>\n",
       "      <th>1775</th>\n",
       "      <td>yastrca01</td>\n",
       "      <td>202</td>\n",
       "    </tr>\n",
       "  </tbody>\n",
       "</table>\n",
       "</div>"
      ],
      "text/plain": [
       "       playerID   HR\n",
       "0     aaronha01  375\n",
       "19    allisbo01  225\n",
       "70    bankser01  269\n",
       "279    cashno01  278\n",
       "283   cepedor01  254\n",
       "323   colavro01  245\n",
       "751   howarfr01  288\n",
       "830   kalinal01  210\n",
       "856   killeha01  393\n",
       "1009  mantlmi01  256\n",
       "1014  marisro01  217\n",
       "1031  matheed01  213\n",
       "1044   mayswi01  350\n",
       "1057  mccovwi01  300\n",
       "1296  powelbo01  202\n",
       "1372  robinfr02  316\n",
       "1428  santoro01  253\n",
       "1730  willibi01  249\n",
       "1775  yastrca01  202"
      ]
     },
     "execution_count": 12,
     "metadata": {},
     "output_type": "execute_result"
    }
   ],
   "source": [
    "HRPlayer = batting[(batting.yearID >= 1960) & (batting.yearID <= 1969)].groupby('playerID')['HR'].sum().reset_index()\n",
    "HRPlayer[HRPlayer['HR'] > 200]"
   ]
  },
  {
   "cell_type": "markdown",
   "metadata": {
    "collapsed": true
   },
   "source": [
    "#### 8)\tWho has hit the most HRs in history? (Dataframe)"
   ]
  },
  {
   "cell_type": "code",
   "execution_count": 13,
   "metadata": {},
   "outputs": [
    {
     "data": {
      "text/html": [
       "<div>\n",
       "<style>\n",
       "    .dataframe thead tr:only-child th {\n",
       "        text-align: right;\n",
       "    }\n",
       "\n",
       "    .dataframe thead th {\n",
       "        text-align: left;\n",
       "    }\n",
       "\n",
       "    .dataframe tbody tr th {\n",
       "        vertical-align: top;\n",
       "    }\n",
       "</style>\n",
       "<table border=\"1\" class=\"dataframe\">\n",
       "  <thead>\n",
       "    <tr style=\"text-align: right;\">\n",
       "      <th></th>\n",
       "      <th>playerID</th>\n",
       "      <th>HR</th>\n",
       "    </tr>\n",
       "  </thead>\n",
       "  <tbody>\n",
       "    <tr>\n",
       "      <th>1542</th>\n",
       "      <td>bondsba01</td>\n",
       "      <td>762</td>\n",
       "    </tr>\n",
       "  </tbody>\n",
       "</table>\n",
       "</div>"
      ],
      "text/plain": [
       "       playerID   HR\n",
       "1542  bondsba01  762"
      ]
     },
     "execution_count": 13,
     "metadata": {},
     "output_type": "execute_result"
    }
   ],
   "source": [
    "HRPlayer = batting.groupby('playerID')['HR'].sum().reset_index()\n",
    "HRPlayer.sort_values(by=['HR'],ascending = False).head(1)"
   ]
  },
  {
   "cell_type": "markdown",
   "metadata": {
    "collapsed": true
   },
   "source": [
    "#### 9)\tWho had the most hits in the 1970s? (Dataframe)"
   ]
  },
  {
   "cell_type": "code",
   "execution_count": 14,
   "metadata": {},
   "outputs": [
    {
     "data": {
      "text/html": [
       "<div>\n",
       "<style>\n",
       "    .dataframe thead tr:only-child th {\n",
       "        text-align: right;\n",
       "    }\n",
       "\n",
       "    .dataframe thead th {\n",
       "        text-align: left;\n",
       "    }\n",
       "\n",
       "    .dataframe tbody tr th {\n",
       "        vertical-align: top;\n",
       "    }\n",
       "</style>\n",
       "<table border=\"1\" class=\"dataframe\">\n",
       "  <thead>\n",
       "    <tr style=\"text-align: right;\">\n",
       "      <th></th>\n",
       "      <th>playerID</th>\n",
       "      <th>H</th>\n",
       "    </tr>\n",
       "  </thead>\n",
       "  <tbody>\n",
       "    <tr>\n",
       "      <th>1639</th>\n",
       "      <td>rosepe01</td>\n",
       "      <td>2045</td>\n",
       "    </tr>\n",
       "  </tbody>\n",
       "</table>\n",
       "</div>"
      ],
      "text/plain": [
       "      playerID     H\n",
       "1639  rosepe01  2045"
      ]
     },
     "execution_count": 14,
     "metadata": {},
     "output_type": "execute_result"
    }
   ],
   "source": [
    "HRPlayer = batting[(batting.yearID >= 1970) & (batting.yearID <= 1979)].groupby('playerID')['H'].sum().reset_index()\n",
    "HRPlayer.sort_values(by=['H'],ascending = False).head(1)"
   ]
  },
  {
   "cell_type": "markdown",
   "metadata": {
    "collapsed": true
   },
   "source": [
    "#### 10)\tTop 5 highest OBP (on base percentage) with at least 500 PAs in 1977?  (Dataframe)"
   ]
  },
  {
   "cell_type": "code",
   "execution_count": 15,
   "metadata": {},
   "outputs": [
    {
     "data": {
      "text/html": [
       "<div>\n",
       "<style>\n",
       "    .dataframe thead tr:only-child th {\n",
       "        text-align: right;\n",
       "    }\n",
       "\n",
       "    .dataframe thead th {\n",
       "        text-align: left;\n",
       "    }\n",
       "\n",
       "    .dataframe tbody tr th {\n",
       "        vertical-align: top;\n",
       "    }\n",
       "</style>\n",
       "<table border=\"1\" class=\"dataframe\">\n",
       "  <thead>\n",
       "    <tr style=\"text-align: right;\">\n",
       "      <th></th>\n",
       "      <th>playerID</th>\n",
       "      <th>OBP</th>\n",
       "      <th>PA</th>\n",
       "    </tr>\n",
       "  </thead>\n",
       "  <tbody>\n",
       "    <tr>\n",
       "      <th>745</th>\n",
       "      <td>singlke01</td>\n",
       "      <td>0.563433</td>\n",
       "      <td>662.0</td>\n",
       "    </tr>\n",
       "    <tr>\n",
       "      <th>752</th>\n",
       "      <td>smithre06</td>\n",
       "      <td>0.559426</td>\n",
       "      <td>611.0</td>\n",
       "    </tr>\n",
       "    <tr>\n",
       "      <th>800</th>\n",
       "      <td>tenacge01</td>\n",
       "      <td>0.556064</td>\n",
       "      <td>578.0</td>\n",
       "    </tr>\n",
       "    <tr>\n",
       "      <th>334</th>\n",
       "      <td>hargrmi01</td>\n",
       "      <td>0.540952</td>\n",
       "      <td>649.0</td>\n",
       "    </tr>\n",
       "    <tr>\n",
       "      <th>135</th>\n",
       "      <td>carewro01</td>\n",
       "      <td>0.534091</td>\n",
       "      <td>706.0</td>\n",
       "    </tr>\n",
       "  </tbody>\n",
       "</table>\n",
       "</div>"
      ],
      "text/plain": [
       "      playerID       OBP     PA\n",
       "745  singlke01  0.563433  662.0\n",
       "752  smithre06  0.559426  611.0\n",
       "800  tenacge01  0.556064  578.0\n",
       "334  hargrmi01  0.540952  649.0\n",
       "135  carewro01  0.534091  706.0"
      ]
     },
     "execution_count": 15,
     "metadata": {},
     "output_type": "execute_result"
    }
   ],
   "source": [
    "batting['OBP'] = (batting['H'] + batting['BB'] + batting['IBB'] + batting['SH'] + batting['SF'])/batting['AB']\n",
    "batting['PA'] = batting['AB'] + batting['BB'] + batting['IBB'] + batting['SH'] + batting['SF']\n",
    "OBPPlayer = batting[batting['yearID'] == 1977].groupby('playerID').agg({'OBP':'mean','PA':'sum'}).reset_index()\n",
    "OBPPlayer[OBPPlayer['PA'] >= 500].sort_values(by='OBP',ascending=False).head(5)"
   ]
  },
  {
   "cell_type": "markdown",
   "metadata": {
    "collapsed": true
   },
   "source": [
    "#### 11)\tTop 8 highest averages in 2013 with at least 300 PAs? (Dataframe)"
   ]
  },
  {
   "cell_type": "code",
   "execution_count": 16,
   "metadata": {},
   "outputs": [
    {
     "data": {
      "text/html": [
       "<div>\n",
       "<style>\n",
       "    .dataframe thead tr:only-child th {\n",
       "        text-align: right;\n",
       "    }\n",
       "\n",
       "    .dataframe thead th {\n",
       "        text-align: left;\n",
       "    }\n",
       "\n",
       "    .dataframe tbody tr th {\n",
       "        vertical-align: top;\n",
       "    }\n",
       "</style>\n",
       "<table border=\"1\" class=\"dataframe\">\n",
       "  <thead>\n",
       "    <tr style=\"text-align: right;\">\n",
       "      <th></th>\n",
       "      <th>playerID</th>\n",
       "      <th>avg</th>\n",
       "      <th>PA</th>\n",
       "    </tr>\n",
       "  </thead>\n",
       "  <tbody>\n",
       "    <tr>\n",
       "      <th>167</th>\n",
       "      <td>cabremi01</td>\n",
       "      <td>0.347748</td>\n",
       "      <td>666.0</td>\n",
       "    </tr>\n",
       "    <tr>\n",
       "      <th>980</th>\n",
       "      <td>ramirha01</td>\n",
       "      <td>0.345395</td>\n",
       "      <td>336.0</td>\n",
       "    </tr>\n",
       "    <tr>\n",
       "      <th>269</th>\n",
       "      <td>cuddymi01</td>\n",
       "      <td>0.331288</td>\n",
       "      <td>543.0</td>\n",
       "    </tr>\n",
       "    <tr>\n",
       "      <th>759</th>\n",
       "      <td>mauerjo01</td>\n",
       "      <td>0.323596</td>\n",
       "      <td>515.0</td>\n",
       "    </tr>\n",
       "    <tr>\n",
       "      <th>1196</th>\n",
       "      <td>troutmi01</td>\n",
       "      <td>0.322581</td>\n",
       "      <td>717.0</td>\n",
       "    </tr>\n",
       "    <tr>\n",
       "      <th>595</th>\n",
       "      <td>johnsch05</td>\n",
       "      <td>0.321012</td>\n",
       "      <td>550.0</td>\n",
       "    </tr>\n",
       "    <tr>\n",
       "      <th>398</th>\n",
       "      <td>freemfr01</td>\n",
       "      <td>0.319419</td>\n",
       "      <td>632.0</td>\n",
       "    </tr>\n",
       "    <tr>\n",
       "      <th>962</th>\n",
       "      <td>puigya01</td>\n",
       "      <td>0.319372</td>\n",
       "      <td>427.0</td>\n",
       "    </tr>\n",
       "  </tbody>\n",
       "</table>\n",
       "</div>"
      ],
      "text/plain": [
       "       playerID       avg     PA\n",
       "167   cabremi01  0.347748  666.0\n",
       "980   ramirha01  0.345395  336.0\n",
       "269   cuddymi01  0.331288  543.0\n",
       "759   mauerjo01  0.323596  515.0\n",
       "1196  troutmi01  0.322581  717.0\n",
       "595   johnsch05  0.321012  550.0\n",
       "398   freemfr01  0.319419  632.0\n",
       "962    puigya01  0.319372  427.0"
      ]
     },
     "execution_count": 16,
     "metadata": {},
     "output_type": "execute_result"
    }
   ],
   "source": [
    "batting['avg'] = batting['H']/batting['AB']\n",
    "PlayerAvg = batting[batting['yearID'] == 2013].groupby('playerID').agg({'avg':'mean','PA':'sum'}).reset_index()\n",
    "PlayerAvg[PlayerAvg['PA'] >= 300].sort_values(by='avg',ascending=False).head(8)"
   ]
  },
  {
   "cell_type": "markdown",
   "metadata": {
    "collapsed": true
   },
   "source": [
    "#### 12)\tLeaders in hits from 1940 up to and including 1949. (Dataframe)"
   ]
  },
  {
   "cell_type": "code",
   "execution_count": 17,
   "metadata": {},
   "outputs": [
    {
     "data": {
      "text/html": [
       "<div>\n",
       "<style>\n",
       "    .dataframe thead tr:only-child th {\n",
       "        text-align: right;\n",
       "    }\n",
       "\n",
       "    .dataframe thead th {\n",
       "        text-align: left;\n",
       "    }\n",
       "\n",
       "    .dataframe tbody tr th {\n",
       "        vertical-align: top;\n",
       "    }\n",
       "</style>\n",
       "<table border=\"1\" class=\"dataframe\">\n",
       "  <thead>\n",
       "    <tr style=\"text-align: right;\">\n",
       "      <th></th>\n",
       "      <th>playerID</th>\n",
       "      <th>H</th>\n",
       "    </tr>\n",
       "  </thead>\n",
       "  <tbody>\n",
       "    <tr>\n",
       "      <th>138</th>\n",
       "      <td>boudrlo01</td>\n",
       "      <td>1578</td>\n",
       "    </tr>\n",
       "    <tr>\n",
       "      <th>427</th>\n",
       "      <td>elliobo01</td>\n",
       "      <td>1563</td>\n",
       "    </tr>\n",
       "    <tr>\n",
       "      <th>1576</th>\n",
       "      <td>walkedi02</td>\n",
       "      <td>1512</td>\n",
       "    </tr>\n",
       "    <tr>\n",
       "      <th>1103</th>\n",
       "      <td>musiast01</td>\n",
       "      <td>1432</td>\n",
       "    </tr>\n",
       "    <tr>\n",
       "      <th>390</th>\n",
       "      <td>doerrbo01</td>\n",
       "      <td>1407</td>\n",
       "    </tr>\n",
       "    <tr>\n",
       "      <th>712</th>\n",
       "      <td>holmeto01</td>\n",
       "      <td>1402</td>\n",
       "    </tr>\n",
       "    <tr>\n",
       "      <th>33</th>\n",
       "      <td>applilu01</td>\n",
       "      <td>1376</td>\n",
       "    </tr>\n",
       "    <tr>\n",
       "      <th>1127</th>\n",
       "      <td>nichobi01</td>\n",
       "      <td>1328</td>\n",
       "    </tr>\n",
       "    <tr>\n",
       "      <th>961</th>\n",
       "      <td>marioma01</td>\n",
       "      <td>1310</td>\n",
       "    </tr>\n",
       "    <tr>\n",
       "      <th>239</th>\n",
       "      <td>cavarph01</td>\n",
       "      <td>1304</td>\n",
       "    </tr>\n",
       "  </tbody>\n",
       "</table>\n",
       "</div>"
      ],
      "text/plain": [
       "       playerID     H\n",
       "138   boudrlo01  1578\n",
       "427   elliobo01  1563\n",
       "1576  walkedi02  1512\n",
       "1103  musiast01  1432\n",
       "390   doerrbo01  1407\n",
       "712   holmeto01  1402\n",
       "33    applilu01  1376\n",
       "1127  nichobi01  1328\n",
       "961   marioma01  1310\n",
       "239   cavarph01  1304"
      ]
     },
     "execution_count": 17,
     "metadata": {},
     "output_type": "execute_result"
    }
   ],
   "source": [
    "PlayerHits = batting[(batting.yearID >= 1940) & (batting.yearID <= 1949)].groupby('playerID')['H'].sum().reset_index()\n",
    "PlayerHits.sort_values(by=['H'],axis=0,ascending = False).head(10)"
   ]
  },
  {
   "cell_type": "markdown",
   "metadata": {
    "collapsed": true
   },
   "source": [
    "#### 13)\tWho led MLB (entire data set) with the most hits the most times?  And how many times?  (Dataframe, Number) players and number of times"
   ]
  },
  {
   "cell_type": "code",
   "execution_count": 18,
   "metadata": {},
   "outputs": [
    {
     "data": {
      "text/html": [
       "<div>\n",
       "<style>\n",
       "    .dataframe thead tr:only-child th {\n",
       "        text-align: right;\n",
       "    }\n",
       "\n",
       "    .dataframe thead th {\n",
       "        text-align: left;\n",
       "    }\n",
       "\n",
       "    .dataframe tbody tr th {\n",
       "        vertical-align: top;\n",
       "    }\n",
       "</style>\n",
       "<table border=\"1\" class=\"dataframe\">\n",
       "  <thead>\n",
       "    <tr style=\"text-align: right;\">\n",
       "      <th></th>\n",
       "      <th>playerID</th>\n",
       "    </tr>\n",
       "  </thead>\n",
       "  <tbody>\n",
       "    <tr>\n",
       "      <th>zimmech01</th>\n",
       "      <td>18</td>\n",
       "    </tr>\n",
       "  </tbody>\n",
       "</table>\n",
       "</div>"
      ],
      "text/plain": [
       "           playerID\n",
       "zimmech01        18"
      ]
     },
     "execution_count": 18,
     "metadata": {},
     "output_type": "execute_result"
    }
   ],
   "source": [
    "PlayerHits = batting.groupby(['yearID','playerID'])['H'].sum().reset_index()\n",
    "MostHitsYear = PlayerHits.groupby('yearID').max().reset_index()['playerID'].value_counts()\n",
    "pd.DataFrame(MostHitsYear.head(1))"
   ]
  },
  {
   "cell_type": "markdown",
   "metadata": {
    "collapsed": true
   },
   "source": [
    "#### 14) Which players have played the most games for their careers?  Top 5, descending by games played presented as a dataframe"
   ]
  },
  {
   "cell_type": "code",
   "execution_count": 19,
   "metadata": {},
   "outputs": [
    {
     "data": {
      "text/html": [
       "<div>\n",
       "<style>\n",
       "    .dataframe thead tr:only-child th {\n",
       "        text-align: right;\n",
       "    }\n",
       "\n",
       "    .dataframe thead th {\n",
       "        text-align: left;\n",
       "    }\n",
       "\n",
       "    .dataframe tbody tr th {\n",
       "        vertical-align: top;\n",
       "    }\n",
       "</style>\n",
       "<table border=\"1\" class=\"dataframe\">\n",
       "  <thead>\n",
       "    <tr style=\"text-align: right;\">\n",
       "      <th></th>\n",
       "      <th>playerID</th>\n",
       "      <th>G</th>\n",
       "    </tr>\n",
       "  </thead>\n",
       "  <tbody>\n",
       "    <tr>\n",
       "      <th>14719</th>\n",
       "      <td>rosepe01</td>\n",
       "      <td>3562</td>\n",
       "    </tr>\n",
       "    <tr>\n",
       "      <th>18728</th>\n",
       "      <td>yastrca01</td>\n",
       "      <td>3308</td>\n",
       "    </tr>\n",
       "    <tr>\n",
       "      <th>1</th>\n",
       "      <td>aaronha01</td>\n",
       "      <td>3298</td>\n",
       "    </tr>\n",
       "    <tr>\n",
       "      <th>7383</th>\n",
       "      <td>henderi01</td>\n",
       "      <td>3081</td>\n",
       "    </tr>\n",
       "    <tr>\n",
       "      <th>3155</th>\n",
       "      <td>cobbty01</td>\n",
       "      <td>3035</td>\n",
       "    </tr>\n",
       "  </tbody>\n",
       "</table>\n",
       "</div>"
      ],
      "text/plain": [
       "        playerID     G\n",
       "14719   rosepe01  3562\n",
       "18728  yastrca01  3308\n",
       "1      aaronha01  3298\n",
       "7383   henderi01  3081\n",
       "3155    cobbty01  3035"
      ]
     },
     "execution_count": 19,
     "metadata": {},
     "output_type": "execute_result"
    }
   ],
   "source": [
    "batting.groupby('playerID')['G'].sum().reset_index().sort_values(by = 'G',ascending = False).head(5)"
   ]
  },
  {
   "cell_type": "markdown",
   "metadata": {
    "collapsed": true
   },
   "source": [
    "#### 15) How many players have had more than 3000 hits for their careers while also hitting 500 or more HRs?  Just a number is okay here"
   ]
  },
  {
   "cell_type": "code",
   "execution_count": 20,
   "metadata": {},
   "outputs": [
    {
     "data": {
      "text/plain": [
       "5"
      ]
     },
     "execution_count": 20,
     "metadata": {},
     "output_type": "execute_result"
    }
   ],
   "source": [
    "PlayerHR = batting.groupby('playerID').agg({'H':'sum','HR':sum}).reset_index()\n",
    "PlayerHR[(PlayerHR['H'] > 3000) & (PlayerHR['HR'] >= 500)]['playerID'].nunique()"
   ]
  },
  {
   "cell_type": "markdown",
   "metadata": {
    "collapsed": true
   },
   "source": [
    "#### 16) How many HRs were hit during the entire 1988 season?  Just a number is okay here"
   ]
  },
  {
   "cell_type": "code",
   "execution_count": 21,
   "metadata": {},
   "outputs": [
    {
     "data": {
      "text/plain": [
       "3180"
      ]
     },
     "execution_count": 21,
     "metadata": {},
     "output_type": "execute_result"
    }
   ],
   "source": [
    "batting[batting['yearID'] == 1988]['HR'].sum()"
   ]
  },
  {
   "cell_type": "markdown",
   "metadata": {
    "collapsed": true
   },
   "source": [
    "#### 17) Please filter out and show me the top 3 average seasons by Wade Boggs during his career in seasons in which he had at least 500 ABs.  I would like a dataframe sorted by average."
   ]
  },
  {
   "cell_type": "code",
   "execution_count": 23,
   "metadata": {},
   "outputs": [
    {
     "data": {
      "text/html": [
       "<div>\n",
       "<style>\n",
       "    .dataframe thead tr:only-child th {\n",
       "        text-align: right;\n",
       "    }\n",
       "\n",
       "    .dataframe thead th {\n",
       "        text-align: left;\n",
       "    }\n",
       "\n",
       "    .dataframe tbody tr th {\n",
       "        vertical-align: top;\n",
       "    }\n",
       "</style>\n",
       "<table border=\"1\" class=\"dataframe\">\n",
       "  <thead>\n",
       "    <tr style=\"text-align: right;\">\n",
       "      <th></th>\n",
       "      <th>yearID</th>\n",
       "      <th>AB</th>\n",
       "      <th>avg</th>\n",
       "    </tr>\n",
       "  </thead>\n",
       "  <tbody>\n",
       "    <tr>\n",
       "      <th>3</th>\n",
       "      <td>1985</td>\n",
       "      <td>653</td>\n",
       "      <td>0.367534</td>\n",
       "    </tr>\n",
       "    <tr>\n",
       "      <th>6</th>\n",
       "      <td>1988</td>\n",
       "      <td>584</td>\n",
       "      <td>0.366438</td>\n",
       "    </tr>\n",
       "    <tr>\n",
       "      <th>5</th>\n",
       "      <td>1987</td>\n",
       "      <td>551</td>\n",
       "      <td>0.362976</td>\n",
       "    </tr>\n",
       "  </tbody>\n",
       "</table>\n",
       "</div>"
      ],
      "text/plain": [
       "   yearID   AB       avg\n",
       "3    1985  653  0.367534\n",
       "6    1988  584  0.366438\n",
       "5    1987  551  0.362976"
      ]
     },
     "execution_count": 23,
     "metadata": {},
     "output_type": "execute_result"
    }
   ],
   "source": [
    "WadeBoggasStat = batting[(batting['nameFirst'] == 'Wade') & (batting['nameLast'] == 'Boggs')].groupby('yearID').agg({'AB':'sum','avg':'mean'}).reset_index()\n",
    "WadeBoggasStat[WadeBoggasStat['AB'] >= 500].sort_values(by='avg', ascending=False).head(3)"
   ]
  },
  {
   "cell_type": "markdown",
   "metadata": {
    "collapsed": true
   },
   "source": [
    "#### 18) Please filter out the top OBPs for the 1995 season with at least 400 PAs, sorted by OBP.  I would like a dataframe for this"
   ]
  },
  {
   "cell_type": "code",
   "execution_count": 25,
   "metadata": {},
   "outputs": [
    {
     "data": {
      "text/html": [
       "<div>\n",
       "<style>\n",
       "    .dataframe thead tr:only-child th {\n",
       "        text-align: right;\n",
       "    }\n",
       "\n",
       "    .dataframe thead th {\n",
       "        text-align: left;\n",
       "    }\n",
       "\n",
       "    .dataframe tbody tr th {\n",
       "        vertical-align: top;\n",
       "    }\n",
       "</style>\n",
       "<table border=\"1\" class=\"dataframe\">\n",
       "  <thead>\n",
       "    <tr style=\"text-align: right;\">\n",
       "      <th></th>\n",
       "      <th>playerID</th>\n",
       "      <th>OBP</th>\n",
       "      <th>PA</th>\n",
       "    </tr>\n",
       "  </thead>\n",
       "  <tbody>\n",
       "    <tr>\n",
       "      <th>1002</th>\n",
       "      <td>thomafr04</td>\n",
       "      <td>0.667343</td>\n",
       "      <td>670.0</td>\n",
       "    </tr>\n",
       "    <tr>\n",
       "      <th>628</th>\n",
       "      <td>martied01</td>\n",
       "      <td>0.628180</td>\n",
       "      <td>650.0</td>\n",
       "    </tr>\n",
       "    <tr>\n",
       "      <th>659</th>\n",
       "      <td>mcgwima01</td>\n",
       "      <td>0.586751</td>\n",
       "      <td>416.0</td>\n",
       "    </tr>\n",
       "    <tr>\n",
       "      <th>107</th>\n",
       "      <td>bondsba01</td>\n",
       "      <td>0.583004</td>\n",
       "      <td>652.0</td>\n",
       "    </tr>\n",
       "    <tr>\n",
       "      <th>235</th>\n",
       "      <td>davisch01</td>\n",
       "      <td>0.577830</td>\n",
       "      <td>534.0</td>\n",
       "    </tr>\n",
       "    <tr>\n",
       "      <th>612</th>\n",
       "      <td>magadda01</td>\n",
       "      <td>0.551724</td>\n",
       "      <td>431.0</td>\n",
       "    </tr>\n",
       "    <tr>\n",
       "      <th>1005</th>\n",
       "      <td>thomeji01</td>\n",
       "      <td>0.542035</td>\n",
       "      <td>555.0</td>\n",
       "    </tr>\n",
       "    <tr>\n",
       "      <th>46</th>\n",
       "      <td>baineha01</td>\n",
       "      <td>0.524675</td>\n",
       "      <td>472.0</td>\n",
       "    </tr>\n",
       "    <tr>\n",
       "      <th>1080</th>\n",
       "      <td>weisswa01</td>\n",
       "      <td>0.524590</td>\n",
       "      <td>540.0</td>\n",
       "    </tr>\n",
       "    <tr>\n",
       "      <th>104</th>\n",
       "      <td>boggswa01</td>\n",
       "      <td>0.510870</td>\n",
       "      <td>546.0</td>\n",
       "    </tr>\n",
       "    <tr>\n",
       "      <th>715</th>\n",
       "      <td>naehrti01</td>\n",
       "      <td>0.510393</td>\n",
       "      <td>521.0</td>\n",
       "    </tr>\n",
       "    <tr>\n",
       "      <th>894</th>\n",
       "      <td>salmoti01</td>\n",
       "      <td>0.510242</td>\n",
       "      <td>634.0</td>\n",
       "    </tr>\n",
       "    <tr>\n",
       "      <th>528</th>\n",
       "      <td>joynewa01</td>\n",
       "      <td>0.509677</td>\n",
       "      <td>558.0</td>\n",
       "    </tr>\n",
       "    <tr>\n",
       "      <th>998</th>\n",
       "      <td>tettlmi01</td>\n",
       "      <td>0.508159</td>\n",
       "      <td>545.0</td>\n",
       "    </tr>\n",
       "    <tr>\n",
       "      <th>43</th>\n",
       "      <td>bagweje01</td>\n",
       "      <td>0.506696</td>\n",
       "      <td>545.0</td>\n",
       "    </tr>\n",
       "    <tr>\n",
       "      <th>748</th>\n",
       "      <td>oneilpa01</td>\n",
       "      <td>0.495652</td>\n",
       "      <td>550.0</td>\n",
       "    </tr>\n",
       "    <tr>\n",
       "      <th>918</th>\n",
       "      <td>seguida01</td>\n",
       "      <td>0.495565</td>\n",
       "      <td>512.0</td>\n",
       "    </tr>\n",
       "    <tr>\n",
       "      <th>805</th>\n",
       "      <td>phillto02</td>\n",
       "      <td>0.491429</td>\n",
       "      <td>646.0</td>\n",
       "    </tr>\n",
       "    <tr>\n",
       "      <th>437</th>\n",
       "      <td>henderi01</td>\n",
       "      <td>0.491400</td>\n",
       "      <td>485.0</td>\n",
       "    </tr>\n",
       "    <tr>\n",
       "      <th>836</th>\n",
       "      <td>ramirma02</td>\n",
       "      <td>0.489669</td>\n",
       "      <td>572.0</td>\n",
       "    </tr>\n",
       "    <tr>\n",
       "      <th>195</th>\n",
       "      <td>clarkwi02</td>\n",
       "      <td>0.488987</td>\n",
       "      <td>539.0</td>\n",
       "    </tr>\n",
       "    <tr>\n",
       "      <th>552</th>\n",
       "      <td>knoblch01</td>\n",
       "      <td>0.488848</td>\n",
       "      <td>622.0</td>\n",
       "    </tr>\n",
       "    <tr>\n",
       "      <th>1046</th>\n",
       "      <td>venturo01</td>\n",
       "      <td>0.487805</td>\n",
       "      <td>587.0</td>\n",
       "    </tr>\n",
       "    <tr>\n",
       "      <th>742</th>\n",
       "      <td>olerujo01</td>\n",
       "      <td>0.483740</td>\n",
       "      <td>587.0</td>\n",
       "    </tr>\n",
       "    <tr>\n",
       "      <th>336</th>\n",
       "      <td>gantro01</td>\n",
       "      <td>0.482927</td>\n",
       "      <td>495.0</td>\n",
       "    </tr>\n",
       "    <tr>\n",
       "      <th>93</th>\n",
       "      <td>biggicr01</td>\n",
       "      <td>0.481013</td>\n",
       "      <td>652.0</td>\n",
       "    </tr>\n",
       "    <tr>\n",
       "      <th>1034</th>\n",
       "      <td>valenjo02</td>\n",
       "      <td>0.476923</td>\n",
       "      <td>613.0</td>\n",
       "    </tr>\n",
       "    <tr>\n",
       "      <th>368</th>\n",
       "      <td>gracema01</td>\n",
       "      <td>0.474638</td>\n",
       "      <td>634.0</td>\n",
       "    </tr>\n",
       "    <tr>\n",
       "      <th>204</th>\n",
       "      <td>coninje01</td>\n",
       "      <td>0.474120</td>\n",
       "      <td>566.0</td>\n",
       "    </tr>\n",
       "    <tr>\n",
       "      <th>156</th>\n",
       "      <td>butlebr01</td>\n",
       "      <td>0.474096</td>\n",
       "      <td>598.0</td>\n",
       "    </tr>\n",
       "    <tr>\n",
       "      <th>...</th>\n",
       "      <td>...</td>\n",
       "      <td>...</td>\n",
       "      <td>...</td>\n",
       "    </tr>\n",
       "    <tr>\n",
       "      <th>967</th>\n",
       "      <td>steinte01</td>\n",
       "      <td>0.362069</td>\n",
       "      <td>440.0</td>\n",
       "    </tr>\n",
       "    <tr>\n",
       "      <th>382</th>\n",
       "      <td>grissma02</td>\n",
       "      <td>0.359347</td>\n",
       "      <td>607.0</td>\n",
       "    </tr>\n",
       "    <tr>\n",
       "      <th>619</th>\n",
       "      <td>manwaki01</td>\n",
       "      <td>0.358839</td>\n",
       "      <td>420.0</td>\n",
       "    </tr>\n",
       "    <tr>\n",
       "      <th>333</th>\n",
       "      <td>galaran01</td>\n",
       "      <td>0.357401</td>\n",
       "      <td>597.0</td>\n",
       "    </tr>\n",
       "    <tr>\n",
       "      <th>97</th>\n",
       "      <td>blausje01</td>\n",
       "      <td>0.357309</td>\n",
       "      <td>494.0</td>\n",
       "    </tr>\n",
       "    <tr>\n",
       "      <th>580</th>\n",
       "      <td>lewisda01</td>\n",
       "      <td>0.356851</td>\n",
       "      <td>519.0</td>\n",
       "    </tr>\n",
       "    <tr>\n",
       "      <th>373</th>\n",
       "      <td>greensh01</td>\n",
       "      <td>0.356201</td>\n",
       "      <td>405.0</td>\n",
       "    </tr>\n",
       "    <tr>\n",
       "      <th>540</th>\n",
       "      <td>kentje01</td>\n",
       "      <td>0.355932</td>\n",
       "      <td>509.0</td>\n",
       "    </tr>\n",
       "    <tr>\n",
       "      <th>457</th>\n",
       "      <td>hillgl01</td>\n",
       "      <td>0.354125</td>\n",
       "      <td>542.0</td>\n",
       "    </tr>\n",
       "    <tr>\n",
       "      <th>524</th>\n",
       "      <td>jordabr01</td>\n",
       "      <td>0.353061</td>\n",
       "      <td>518.0</td>\n",
       "    </tr>\n",
       "    <tr>\n",
       "      <th>352</th>\n",
       "      <td>girarjo01</td>\n",
       "      <td>0.352814</td>\n",
       "      <td>504.0</td>\n",
       "    </tr>\n",
       "    <tr>\n",
       "      <th>539</th>\n",
       "      <td>kellyro01</td>\n",
       "      <td>0.351319</td>\n",
       "      <td>539.0</td>\n",
       "    </tr>\n",
       "    <tr>\n",
       "      <th>876</th>\n",
       "      <td>rodriiv01</td>\n",
       "      <td>0.349593</td>\n",
       "      <td>515.0</td>\n",
       "    </tr>\n",
       "    <tr>\n",
       "      <th>266</th>\n",
       "      <td>durhara01</td>\n",
       "      <td>0.346072</td>\n",
       "      <td>513.0</td>\n",
       "    </tr>\n",
       "    <tr>\n",
       "      <th>250</th>\n",
       "      <td>devermi01</td>\n",
       "      <td>0.345154</td>\n",
       "      <td>421.0</td>\n",
       "    </tr>\n",
       "    <tr>\n",
       "      <th>63</th>\n",
       "      <td>beckeri01</td>\n",
       "      <td>0.344388</td>\n",
       "      <td>434.0</td>\n",
       "    </tr>\n",
       "    <tr>\n",
       "      <th>265</th>\n",
       "      <td>dunstsh01</td>\n",
       "      <td>0.343816</td>\n",
       "      <td>500.0</td>\n",
       "    </tr>\n",
       "    <tr>\n",
       "      <th>609</th>\n",
       "      <td>macfami01</td>\n",
       "      <td>0.340659</td>\n",
       "      <td>406.0</td>\n",
       "    </tr>\n",
       "    <tr>\n",
       "      <th>896</th>\n",
       "      <td>sanchre01</td>\n",
       "      <td>0.338785</td>\n",
       "      <td>454.0</td>\n",
       "    </tr>\n",
       "    <tr>\n",
       "      <th>172</th>\n",
       "      <td>cartejo01</td>\n",
       "      <td>0.336918</td>\n",
       "      <td>605.0</td>\n",
       "    </tr>\n",
       "    <tr>\n",
       "      <th>269</th>\n",
       "      <td>easleda01</td>\n",
       "      <td>0.336134</td>\n",
       "      <td>400.0</td>\n",
       "    </tr>\n",
       "    <tr>\n",
       "      <th>357</th>\n",
       "      <td>gomezch02</td>\n",
       "      <td>0.334107</td>\n",
       "      <td>479.0</td>\n",
       "    </tr>\n",
       "    <tr>\n",
       "      <th>196</th>\n",
       "      <td>claytro01</td>\n",
       "      <td>0.333988</td>\n",
       "      <td>555.0</td>\n",
       "    </tr>\n",
       "    <tr>\n",
       "      <th>1062</th>\n",
       "      <td>walbema01</td>\n",
       "      <td>0.333333</td>\n",
       "      <td>423.0</td>\n",
       "    </tr>\n",
       "    <tr>\n",
       "      <th>199</th>\n",
       "      <td>colbrgr01</td>\n",
       "      <td>0.333333</td>\n",
       "      <td>558.0</td>\n",
       "    </tr>\n",
       "    <tr>\n",
       "      <th>665</th>\n",
       "      <td>mearepa01</td>\n",
       "      <td>0.330769</td>\n",
       "      <td>414.0</td>\n",
       "    </tr>\n",
       "    <tr>\n",
       "      <th>565</th>\n",
       "      <td>lansimi01</td>\n",
       "      <td>0.327623</td>\n",
       "      <td>501.0</td>\n",
       "    </tr>\n",
       "    <tr>\n",
       "      <th>348</th>\n",
       "      <td>gilbe01</td>\n",
       "      <td>0.310843</td>\n",
       "      <td>453.0</td>\n",
       "    </tr>\n",
       "    <tr>\n",
       "      <th>180</th>\n",
       "      <td>cedenan01</td>\n",
       "      <td>0.302564</td>\n",
       "      <td>426.0</td>\n",
       "    </tr>\n",
       "    <tr>\n",
       "      <th>391</th>\n",
       "      <td>guilloz01</td>\n",
       "      <td>0.293976</td>\n",
       "      <td>434.0</td>\n",
       "    </tr>\n",
       "  </tbody>\n",
       "</table>\n",
       "<p>171 rows × 3 columns</p>\n",
       "</div>"
      ],
      "text/plain": [
       "       playerID       OBP     PA\n",
       "1002  thomafr04  0.667343  670.0\n",
       "628   martied01  0.628180  650.0\n",
       "659   mcgwima01  0.586751  416.0\n",
       "107   bondsba01  0.583004  652.0\n",
       "235   davisch01  0.577830  534.0\n",
       "612   magadda01  0.551724  431.0\n",
       "1005  thomeji01  0.542035  555.0\n",
       "46    baineha01  0.524675  472.0\n",
       "1080  weisswa01  0.524590  540.0\n",
       "104   boggswa01  0.510870  546.0\n",
       "715   naehrti01  0.510393  521.0\n",
       "894   salmoti01  0.510242  634.0\n",
       "528   joynewa01  0.509677  558.0\n",
       "998   tettlmi01  0.508159  545.0\n",
       "43    bagweje01  0.506696  545.0\n",
       "748   oneilpa01  0.495652  550.0\n",
       "918   seguida01  0.495565  512.0\n",
       "805   phillto02  0.491429  646.0\n",
       "437   henderi01  0.491400  485.0\n",
       "836   ramirma02  0.489669  572.0\n",
       "195   clarkwi02  0.488987  539.0\n",
       "552   knoblch01  0.488848  622.0\n",
       "1046  venturo01  0.487805  587.0\n",
       "742   olerujo01  0.483740  587.0\n",
       "336    gantro01  0.482927  495.0\n",
       "93    biggicr01  0.481013  652.0\n",
       "1034  valenjo02  0.476923  613.0\n",
       "368   gracema01  0.474638  634.0\n",
       "204   coninje01  0.474120  566.0\n",
       "156   butlebr01  0.474096  598.0\n",
       "...         ...       ...    ...\n",
       "967   steinte01  0.362069  440.0\n",
       "382   grissma02  0.359347  607.0\n",
       "619   manwaki01  0.358839  420.0\n",
       "333   galaran01  0.357401  597.0\n",
       "97    blausje01  0.357309  494.0\n",
       "580   lewisda01  0.356851  519.0\n",
       "373   greensh01  0.356201  405.0\n",
       "540    kentje01  0.355932  509.0\n",
       "457    hillgl01  0.354125  542.0\n",
       "524   jordabr01  0.353061  518.0\n",
       "352   girarjo01  0.352814  504.0\n",
       "539   kellyro01  0.351319  539.0\n",
       "876   rodriiv01  0.349593  515.0\n",
       "266   durhara01  0.346072  513.0\n",
       "250   devermi01  0.345154  421.0\n",
       "63    beckeri01  0.344388  434.0\n",
       "265   dunstsh01  0.343816  500.0\n",
       "609   macfami01  0.340659  406.0\n",
       "896   sanchre01  0.338785  454.0\n",
       "172   cartejo01  0.336918  605.0\n",
       "269   easleda01  0.336134  400.0\n",
       "357   gomezch02  0.334107  479.0\n",
       "196   claytro01  0.333988  555.0\n",
       "1062  walbema01  0.333333  423.0\n",
       "199   colbrgr01  0.333333  558.0\n",
       "665   mearepa01  0.330769  414.0\n",
       "565   lansimi01  0.327623  501.0\n",
       "348     gilbe01  0.310843  453.0\n",
       "180   cedenan01  0.302564  426.0\n",
       "391   guilloz01  0.293976  434.0\n",
       "\n",
       "[171 rows x 3 columns]"
      ]
     },
     "execution_count": 25,
     "metadata": {},
     "output_type": "execute_result"
    }
   ],
   "source": [
    "PlayerOBP = batting[batting['yearID'] == 1995].groupby('playerID').agg({'OBP':'mean','PA':'sum'}).reset_index()\n",
    "PlayerOBP[PlayerOBP['PA'] >= 400].sort_values(by='OBP',ascending=False)"
   ]
  },
  {
   "cell_type": "markdown",
   "metadata": {
    "collapsed": true
   },
   "source": [
    "#### 19) Who had the most 3Bs (in total) in 1922, 1925, 1926, and 1928?  I would like a dataframe with just the leader"
   ]
  },
  {
   "cell_type": "code",
   "execution_count": 26,
   "metadata": {},
   "outputs": [
    {
     "data": {
      "text/html": [
       "<div>\n",
       "<style>\n",
       "    .dataframe thead tr:only-child th {\n",
       "        text-align: right;\n",
       "    }\n",
       "\n",
       "    .dataframe thead th {\n",
       "        text-align: left;\n",
       "    }\n",
       "\n",
       "    .dataframe tbody tr th {\n",
       "        vertical-align: top;\n",
       "    }\n",
       "</style>\n",
       "<table border=\"1\" class=\"dataframe\">\n",
       "  <thead>\n",
       "    <tr style=\"text-align: right;\">\n",
       "      <th></th>\n",
       "      <th>playerID</th>\n",
       "      <th>3B</th>\n",
       "    </tr>\n",
       "  </thead>\n",
       "  <tbody>\n",
       "    <tr>\n",
       "      <th>0</th>\n",
       "      <td>zitzmbi01</td>\n",
       "      <td>59</td>\n",
       "    </tr>\n",
       "  </tbody>\n",
       "</table>\n",
       "</div>"
      ],
      "text/plain": [
       "    playerID  3B\n",
       "0  zitzmbi01  59"
      ]
     },
     "execution_count": 26,
     "metadata": {},
     "output_type": "execute_result"
    }
   ],
   "source": [
    "Max3B = batting[batting['yearID'].isin([1922,1925,1926,1928])].groupby('playerID')['3B'].sum().reset_index().max()\n",
    "pd.DataFrame(Max3B).transpose()"
   ]
  },
  {
   "cell_type": "markdown",
   "metadata": {},
   "source": [
    "#### 20) How many players have hit 30 or more HRs in season while also stealing (SB) 30 more or bases?  A number is okay here"
   ]
  },
  {
   "cell_type": "code",
   "execution_count": 27,
   "metadata": {},
   "outputs": [
    {
     "data": {
      "text/plain": [
       "38"
      ]
     },
     "execution_count": 27,
     "metadata": {},
     "output_type": "execute_result"
    }
   ],
   "source": [
    "HRPlayerYear = batting.groupby(['yearID','playerID']).agg({'HR':'sum','SB':'sum'}).reset_index()\n",
    "HRPlayerYear[(HRPlayerYear['HR'] >= 30) & (HRPlayerYear['SB'] >= 30)]['playerID'].nunique()"
   ]
  },
  {
   "cell_type": "markdown",
   "metadata": {},
   "source": [
    "#### 21) Who had the highest OBP is 1986 with at least 400 PAs? (Dataframe)"
   ]
  },
  {
   "cell_type": "code",
   "execution_count": 28,
   "metadata": {},
   "outputs": [
    {
     "data": {
      "text/html": [
       "<div>\n",
       "<style>\n",
       "    .dataframe thead tr:only-child th {\n",
       "        text-align: right;\n",
       "    }\n",
       "\n",
       "    .dataframe thead th {\n",
       "        text-align: left;\n",
       "    }\n",
       "\n",
       "    .dataframe tbody tr th {\n",
       "        vertical-align: top;\n",
       "    }\n",
       "</style>\n",
       "<table border=\"1\" class=\"dataframe\">\n",
       "  <thead>\n",
       "    <tr style=\"text-align: right;\">\n",
       "      <th></th>\n",
       "      <th>playerID</th>\n",
       "      <th>OBP</th>\n",
       "      <th>PA</th>\n",
       "    </tr>\n",
       "  </thead>\n",
       "  <tbody>\n",
       "    <tr>\n",
       "      <th>78</th>\n",
       "      <td>boggswa01</td>\n",
       "      <td>0.575862</td>\n",
       "      <td>707.0</td>\n",
       "    </tr>\n",
       "  </tbody>\n",
       "</table>\n",
       "</div>"
      ],
      "text/plain": [
       "     playerID       OBP     PA\n",
       "78  boggswa01  0.575862  707.0"
      ]
     },
     "execution_count": 28,
     "metadata": {},
     "output_type": "execute_result"
    }
   ],
   "source": [
    "PlayerOBP = batting[batting['yearID'] == 1986].groupby('playerID').agg({'OBP':'mean','PA':'sum'}).reset_index()\n",
    "PlayerOBP[PlayerOBP['PA'] >= 400].sort_values(by='OBP',ascending = False).head(1)"
   ]
  },
  {
   "cell_type": "markdown",
   "metadata": {},
   "source": [
    "#### 22) Same question but for 1997 and only in the NL (check league ID)? (Dataframe)"
   ]
  },
  {
   "cell_type": "code",
   "execution_count": 29,
   "metadata": {},
   "outputs": [
    {
     "data": {
      "text/html": [
       "<div>\n",
       "<style>\n",
       "    .dataframe thead tr:only-child th {\n",
       "        text-align: right;\n",
       "    }\n",
       "\n",
       "    .dataframe thead th {\n",
       "        text-align: left;\n",
       "    }\n",
       "\n",
       "    .dataframe tbody tr th {\n",
       "        vertical-align: top;\n",
       "    }\n",
       "</style>\n",
       "<table border=\"1\" class=\"dataframe\">\n",
       "  <thead>\n",
       "    <tr style=\"text-align: right;\">\n",
       "      <th></th>\n",
       "      <th>playerID</th>\n",
       "      <th>OBP</th>\n",
       "      <th>PA</th>\n",
       "    </tr>\n",
       "  </thead>\n",
       "  <tbody>\n",
       "    <tr>\n",
       "      <th>60</th>\n",
       "      <td>bondsba01</td>\n",
       "      <td>0.637218</td>\n",
       "      <td>716.0</td>\n",
       "    </tr>\n",
       "  </tbody>\n",
       "</table>\n",
       "</div>"
      ],
      "text/plain": [
       "     playerID       OBP     PA\n",
       "60  bondsba01  0.637218  716.0"
      ]
     },
     "execution_count": 29,
     "metadata": {},
     "output_type": "execute_result"
    }
   ],
   "source": [
    "NLPlayerOBP = batting[(batting['yearID'] == 1997) & (batting['lgID'] == 'NL')].groupby('playerID').agg({'OBP':'mean','PA':'sum'}).reset_index()\n",
    "NLPlayerOBP[NLPlayerOBP['PA'] >= 400].sort_values(by='OBP',ascending = False).head(1)"
   ]
  },
  {
   "cell_type": "markdown",
   "metadata": {},
   "source": [
    "#### 23) Who had more than the league average HRs in 2012 (filter out all players with less 500 PAs)? (Dataframe)"
   ]
  },
  {
   "cell_type": "code",
   "execution_count": 30,
   "metadata": {},
   "outputs": [
    {
     "data": {
      "text/html": [
       "<div>\n",
       "<style>\n",
       "    .dataframe thead tr:only-child th {\n",
       "        text-align: right;\n",
       "    }\n",
       "\n",
       "    .dataframe thead th {\n",
       "        text-align: left;\n",
       "    }\n",
       "\n",
       "    .dataframe tbody tr th {\n",
       "        vertical-align: top;\n",
       "    }\n",
       "</style>\n",
       "<table border=\"1\" class=\"dataframe\">\n",
       "  <thead>\n",
       "    <tr style=\"text-align: right;\">\n",
       "      <th></th>\n",
       "      <th>playerID</th>\n",
       "      <th>HR</th>\n",
       "      <th>PA</th>\n",
       "    </tr>\n",
       "  </thead>\n",
       "  <tbody>\n",
       "    <tr>\n",
       "      <th>6</th>\n",
       "      <td>ackledu01</td>\n",
       "      <td>12</td>\n",
       "      <td>675.0</td>\n",
       "    </tr>\n",
       "    <tr>\n",
       "      <th>17</th>\n",
       "      <td>alonsyo01</td>\n",
       "      <td>9</td>\n",
       "      <td>625.0</td>\n",
       "    </tr>\n",
       "    <tr>\n",
       "      <th>18</th>\n",
       "      <td>altuvjo01</td>\n",
       "      <td>7</td>\n",
       "      <td>624.0</td>\n",
       "    </tr>\n",
       "    <tr>\n",
       "      <th>20</th>\n",
       "      <td>alvarpe01</td>\n",
       "      <td>30</td>\n",
       "      <td>591.0</td>\n",
       "    </tr>\n",
       "    <tr>\n",
       "      <th>29</th>\n",
       "      <td>aokino01</td>\n",
       "      <td>10</td>\n",
       "      <td>576.0</td>\n",
       "    </tr>\n",
       "    <tr>\n",
       "      <th>41</th>\n",
       "      <td>avilemi01</td>\n",
       "      <td>13</td>\n",
       "      <td>544.0</td>\n",
       "    </tr>\n",
       "    <tr>\n",
       "      <th>45</th>\n",
       "      <td>aybarer01</td>\n",
       "      <td>8</td>\n",
       "      <td>549.0</td>\n",
       "    </tr>\n",
       "    <tr>\n",
       "      <th>57</th>\n",
       "      <td>barneda01</td>\n",
       "      <td>7</td>\n",
       "      <td>586.0</td>\n",
       "    </tr>\n",
       "    <tr>\n",
       "      <th>73</th>\n",
       "      <td>beckhgo01</td>\n",
       "      <td>16</td>\n",
       "      <td>575.0</td>\n",
       "    </tr>\n",
       "    <tr>\n",
       "      <th>82</th>\n",
       "      <td>beltrad01</td>\n",
       "      <td>36</td>\n",
       "      <td>657.0</td>\n",
       "    </tr>\n",
       "    <tr>\n",
       "      <th>83</th>\n",
       "      <td>beltrca01</td>\n",
       "      <td>32</td>\n",
       "      <td>632.0</td>\n",
       "    </tr>\n",
       "    <tr>\n",
       "      <th>113</th>\n",
       "      <td>bournmi01</td>\n",
       "      <td>9</td>\n",
       "      <td>701.0</td>\n",
       "    </tr>\n",
       "    <tr>\n",
       "      <th>117</th>\n",
       "      <td>brantmi02</td>\n",
       "      <td>6</td>\n",
       "      <td>621.0</td>\n",
       "    </tr>\n",
       "    <tr>\n",
       "      <th>119</th>\n",
       "      <td>braunry02</td>\n",
       "      <td>41</td>\n",
       "      <td>681.0</td>\n",
       "    </tr>\n",
       "    <tr>\n",
       "      <th>130</th>\n",
       "      <td>bruceja01</td>\n",
       "      <td>34</td>\n",
       "      <td>640.0</td>\n",
       "    </tr>\n",
       "    <tr>\n",
       "      <th>148</th>\n",
       "      <td>butlebi03</td>\n",
       "      <td>29</td>\n",
       "      <td>681.0</td>\n",
       "    </tr>\n",
       "    <tr>\n",
       "      <th>152</th>\n",
       "      <td>cabreas01</td>\n",
       "      <td>16</td>\n",
       "      <td>613.0</td>\n",
       "    </tr>\n",
       "    <tr>\n",
       "      <th>155</th>\n",
       "      <td>cabreme01</td>\n",
       "      <td>11</td>\n",
       "      <td>505.0</td>\n",
       "    </tr>\n",
       "    <tr>\n",
       "      <th>156</th>\n",
       "      <td>cabremi01</td>\n",
       "      <td>44</td>\n",
       "      <td>711.0</td>\n",
       "    </tr>\n",
       "    <tr>\n",
       "      <th>162</th>\n",
       "      <td>callaal01</td>\n",
       "      <td>10</td>\n",
       "      <td>521.0</td>\n",
       "    </tr>\n",
       "    <tr>\n",
       "      <th>165</th>\n",
       "      <td>canoro01</td>\n",
       "      <td>33</td>\n",
       "      <td>700.0</td>\n",
       "    </tr>\n",
       "    <tr>\n",
       "      <th>196</th>\n",
       "      <td>castrst01</td>\n",
       "      <td>14</td>\n",
       "      <td>692.0</td>\n",
       "    </tr>\n",
       "    <tr>\n",
       "      <th>201</th>\n",
       "      <td>cespeyo01</td>\n",
       "      <td>23</td>\n",
       "      <td>538.0</td>\n",
       "    </tr>\n",
       "    <tr>\n",
       "      <th>215</th>\n",
       "      <td>choosh01</td>\n",
       "      <td>16</td>\n",
       "      <td>672.0</td>\n",
       "    </tr>\n",
       "    <tr>\n",
       "      <th>253</th>\n",
       "      <td>cozarza01</td>\n",
       "      <td>15</td>\n",
       "      <td>597.0</td>\n",
       "    </tr>\n",
       "    <tr>\n",
       "      <th>254</th>\n",
       "      <td>craigal01</td>\n",
       "      <td>22</td>\n",
       "      <td>514.0</td>\n",
       "    </tr>\n",
       "    <tr>\n",
       "      <th>259</th>\n",
       "      <td>crispco01</td>\n",
       "      <td>11</td>\n",
       "      <td>508.0</td>\n",
       "    </tr>\n",
       "    <tr>\n",
       "      <th>264</th>\n",
       "      <td>cruzne02</td>\n",
       "      <td>24</td>\n",
       "      <td>639.0</td>\n",
       "    </tr>\n",
       "    <tr>\n",
       "      <th>277</th>\n",
       "      <td>davisch02</td>\n",
       "      <td>33</td>\n",
       "      <td>561.0</td>\n",
       "    </tr>\n",
       "    <tr>\n",
       "      <th>278</th>\n",
       "      <td>davisik02</td>\n",
       "      <td>32</td>\n",
       "      <td>586.0</td>\n",
       "    </tr>\n",
       "    <tr>\n",
       "      <th>...</th>\n",
       "      <td>...</td>\n",
       "      <td>...</td>\n",
       "      <td>...</td>\n",
       "    </tr>\n",
       "    <tr>\n",
       "      <th>1020</th>\n",
       "      <td>rolliji01</td>\n",
       "      <td>23</td>\n",
       "      <td>701.0</td>\n",
       "    </tr>\n",
       "    <tr>\n",
       "      <th>1030</th>\n",
       "      <td>rossco01</td>\n",
       "      <td>22</td>\n",
       "      <td>528.0</td>\n",
       "    </tr>\n",
       "    <tr>\n",
       "      <th>1058</th>\n",
       "      <td>santaca01</td>\n",
       "      <td>18</td>\n",
       "      <td>610.0</td>\n",
       "    </tr>\n",
       "    <tr>\n",
       "      <th>1068</th>\n",
       "      <td>saundmi01</td>\n",
       "      <td>19</td>\n",
       "      <td>552.0</td>\n",
       "    </tr>\n",
       "    <tr>\n",
       "      <th>1084</th>\n",
       "      <td>scutama01</td>\n",
       "      <td>7</td>\n",
       "      <td>679.0</td>\n",
       "    </tr>\n",
       "    <tr>\n",
       "      <th>1085</th>\n",
       "      <td>seageky01</td>\n",
       "      <td>20</td>\n",
       "      <td>647.0</td>\n",
       "    </tr>\n",
       "    <tr>\n",
       "      <th>1104</th>\n",
       "      <td>smoakju01</td>\n",
       "      <td>19</td>\n",
       "      <td>536.0</td>\n",
       "    </tr>\n",
       "    <tr>\n",
       "      <th>1114</th>\n",
       "      <td>soriaal01</td>\n",
       "      <td>32</td>\n",
       "      <td>613.0</td>\n",
       "    </tr>\n",
       "    <tr>\n",
       "      <th>1117</th>\n",
       "      <td>spande01</td>\n",
       "      <td>4</td>\n",
       "      <td>568.0</td>\n",
       "    </tr>\n",
       "    <tr>\n",
       "      <th>1121</th>\n",
       "      <td>stantmi03</td>\n",
       "      <td>37</td>\n",
       "      <td>505.0</td>\n",
       "    </tr>\n",
       "    <tr>\n",
       "      <th>1133</th>\n",
       "      <td>stubbdr01</td>\n",
       "      <td>14</td>\n",
       "      <td>542.0</td>\n",
       "    </tr>\n",
       "    <tr>\n",
       "      <th>1138</th>\n",
       "      <td>suzukic01</td>\n",
       "      <td>9</td>\n",
       "      <td>666.0</td>\n",
       "    </tr>\n",
       "    <tr>\n",
       "      <th>1142</th>\n",
       "      <td>swishni01</td>\n",
       "      <td>24</td>\n",
       "      <td>622.0</td>\n",
       "    </tr>\n",
       "    <tr>\n",
       "      <th>1152</th>\n",
       "      <td>teixema01</td>\n",
       "      <td>24</td>\n",
       "      <td>518.0</td>\n",
       "    </tr>\n",
       "    <tr>\n",
       "      <th>1177</th>\n",
       "      <td>troutmi01</td>\n",
       "      <td>30</td>\n",
       "      <td>637.0</td>\n",
       "    </tr>\n",
       "    <tr>\n",
       "      <th>1178</th>\n",
       "      <td>trumbma01</td>\n",
       "      <td>32</td>\n",
       "      <td>585.0</td>\n",
       "    </tr>\n",
       "    <tr>\n",
       "      <th>1183</th>\n",
       "      <td>ugglada01</td>\n",
       "      <td>19</td>\n",
       "      <td>625.0</td>\n",
       "    </tr>\n",
       "    <tr>\n",
       "      <th>1184</th>\n",
       "      <td>uptonbj01</td>\n",
       "      <td>28</td>\n",
       "      <td>630.0</td>\n",
       "    </tr>\n",
       "    <tr>\n",
       "      <th>1185</th>\n",
       "      <td>uptonju01</td>\n",
       "      <td>17</td>\n",
       "      <td>628.0</td>\n",
       "    </tr>\n",
       "    <tr>\n",
       "      <th>1208</th>\n",
       "      <td>vicieda01</td>\n",
       "      <td>25</td>\n",
       "      <td>537.0</td>\n",
       "    </tr>\n",
       "    <tr>\n",
       "      <th>1209</th>\n",
       "      <td>victosh01</td>\n",
       "      <td>11</td>\n",
       "      <td>661.0</td>\n",
       "    </tr>\n",
       "    <tr>\n",
       "      <th>1225</th>\n",
       "      <td>walkene01</td>\n",
       "      <td>14</td>\n",
       "      <td>529.0</td>\n",
       "    </tr>\n",
       "    <tr>\n",
       "      <th>1236</th>\n",
       "      <td>weeksri01</td>\n",
       "      <td>21</td>\n",
       "      <td>666.0</td>\n",
       "    </tr>\n",
       "    <tr>\n",
       "      <th>1250</th>\n",
       "      <td>wietema01</td>\n",
       "      <td>23</td>\n",
       "      <td>593.0</td>\n",
       "    </tr>\n",
       "    <tr>\n",
       "      <th>1255</th>\n",
       "      <td>willijo03</td>\n",
       "      <td>35</td>\n",
       "      <td>605.0</td>\n",
       "    </tr>\n",
       "    <tr>\n",
       "      <th>1267</th>\n",
       "      <td>wrighda03</td>\n",
       "      <td>21</td>\n",
       "      <td>683.0</td>\n",
       "    </tr>\n",
       "    <tr>\n",
       "      <th>1273</th>\n",
       "      <td>youngde03</td>\n",
       "      <td>18</td>\n",
       "      <td>602.0</td>\n",
       "    </tr>\n",
       "    <tr>\n",
       "      <th>1276</th>\n",
       "      <td>youngmi02</td>\n",
       "      <td>8</td>\n",
       "      <td>653.0</td>\n",
       "    </tr>\n",
       "    <tr>\n",
       "      <th>1281</th>\n",
       "      <td>zimmery01</td>\n",
       "      <td>25</td>\n",
       "      <td>647.0</td>\n",
       "    </tr>\n",
       "    <tr>\n",
       "      <th>1283</th>\n",
       "      <td>zobribe01</td>\n",
       "      <td>20</td>\n",
       "      <td>672.0</td>\n",
       "    </tr>\n",
       "  </tbody>\n",
       "</table>\n",
       "<p>139 rows × 3 columns</p>\n",
       "</div>"
      ],
      "text/plain": [
       "       playerID  HR     PA\n",
       "6     ackledu01  12  675.0\n",
       "17    alonsyo01   9  625.0\n",
       "18    altuvjo01   7  624.0\n",
       "20    alvarpe01  30  591.0\n",
       "29     aokino01  10  576.0\n",
       "41    avilemi01  13  544.0\n",
       "45    aybarer01   8  549.0\n",
       "57    barneda01   7  586.0\n",
       "73    beckhgo01  16  575.0\n",
       "82    beltrad01  36  657.0\n",
       "83    beltrca01  32  632.0\n",
       "113   bournmi01   9  701.0\n",
       "117   brantmi02   6  621.0\n",
       "119   braunry02  41  681.0\n",
       "130   bruceja01  34  640.0\n",
       "148   butlebi03  29  681.0\n",
       "152   cabreas01  16  613.0\n",
       "155   cabreme01  11  505.0\n",
       "156   cabremi01  44  711.0\n",
       "162   callaal01  10  521.0\n",
       "165    canoro01  33  700.0\n",
       "196   castrst01  14  692.0\n",
       "201   cespeyo01  23  538.0\n",
       "215    choosh01  16  672.0\n",
       "253   cozarza01  15  597.0\n",
       "254   craigal01  22  514.0\n",
       "259   crispco01  11  508.0\n",
       "264    cruzne02  24  639.0\n",
       "277   davisch02  33  561.0\n",
       "278   davisik02  32  586.0\n",
       "...         ...  ..    ...\n",
       "1020  rolliji01  23  701.0\n",
       "1030   rossco01  22  528.0\n",
       "1058  santaca01  18  610.0\n",
       "1068  saundmi01  19  552.0\n",
       "1084  scutama01   7  679.0\n",
       "1085  seageky01  20  647.0\n",
       "1104  smoakju01  19  536.0\n",
       "1114  soriaal01  32  613.0\n",
       "1117   spande01   4  568.0\n",
       "1121  stantmi03  37  505.0\n",
       "1133  stubbdr01  14  542.0\n",
       "1138  suzukic01   9  666.0\n",
       "1142  swishni01  24  622.0\n",
       "1152  teixema01  24  518.0\n",
       "1177  troutmi01  30  637.0\n",
       "1178  trumbma01  32  585.0\n",
       "1183  ugglada01  19  625.0\n",
       "1184  uptonbj01  28  630.0\n",
       "1185  uptonju01  17  628.0\n",
       "1208  vicieda01  25  537.0\n",
       "1209  victosh01  11  661.0\n",
       "1225  walkene01  14  529.0\n",
       "1236  weeksri01  21  666.0\n",
       "1250  wietema01  23  593.0\n",
       "1255  willijo03  35  605.0\n",
       "1267  wrighda03  21  683.0\n",
       "1273  youngde03  18  602.0\n",
       "1276  youngmi02   8  653.0\n",
       "1281  zimmery01  25  647.0\n",
       "1283  zobribe01  20  672.0\n",
       "\n",
       "[139 rows x 3 columns]"
      ]
     },
     "execution_count": 30,
     "metadata": {},
     "output_type": "execute_result"
    }
   ],
   "source": [
    "league_avg = batting[batting['yearID'] == 2012]['HR'].mean()\n",
    "PlayerHR = batting[batting['yearID'] == 2012].groupby('playerID').agg({'HR':'sum','PA':'sum'}).reset_index()\n",
    "PlayerHR[(PlayerHR['PA'] >= 500) & (PlayerHR['HR'] > league_avg)]"
   ]
  },
  {
   "cell_type": "markdown",
   "metadata": {},
   "source": [
    "#### 24) Who is the youngest player to hit 50 or more HRs in a single season? (Dataframe)"
   ]
  },
  {
   "cell_type": "code",
   "execution_count": 31,
   "metadata": {},
   "outputs": [
    {
     "data": {
      "text/html": [
       "<div>\n",
       "<style>\n",
       "    .dataframe thead tr:only-child th {\n",
       "        text-align: right;\n",
       "    }\n",
       "\n",
       "    .dataframe thead th {\n",
       "        text-align: left;\n",
       "    }\n",
       "\n",
       "    .dataframe tbody tr th {\n",
       "        vertical-align: top;\n",
       "    }\n",
       "</style>\n",
       "<table border=\"1\" class=\"dataframe\">\n",
       "  <thead>\n",
       "    <tr style=\"text-align: right;\">\n",
       "      <th></th>\n",
       "      <th>yearID</th>\n",
       "      <th>playerID</th>\n",
       "      <th>age</th>\n",
       "      <th>HR</th>\n",
       "    </tr>\n",
       "  </thead>\n",
       "  <tbody>\n",
       "    <tr>\n",
       "      <th>82621</th>\n",
       "      <td>2007</td>\n",
       "      <td>fieldpr01</td>\n",
       "      <td>23</td>\n",
       "      <td>50</td>\n",
       "    </tr>\n",
       "  </tbody>\n",
       "</table>\n",
       "</div>"
      ],
      "text/plain": [
       "       yearID   playerID  age  HR\n",
       "82621    2007  fieldpr01   23  50"
      ]
     },
     "execution_count": 31,
     "metadata": {},
     "output_type": "execute_result"
    }
   ],
   "source": [
    "batting['age'] = batting['yearID'] - batting['birthYear']\n",
    "df = batting.groupby(['yearID','playerID','age'])['HR'].sum().reset_index() \n",
    "df[df['HR'] >= 50].sort_values(by='age').head(1)"
   ]
  },
  {
   "cell_type": "markdown",
   "metadata": {},
   "source": [
    "#### 25) Who are the five youngest players to hit 300 or more HRs for their career? (Dataframe)"
   ]
  },
  {
   "cell_type": "code",
   "execution_count": 32,
   "metadata": {},
   "outputs": [
    {
     "data": {
      "text/html": [
       "<div>\n",
       "<style>\n",
       "    .dataframe thead tr:only-child th {\n",
       "        text-align: right;\n",
       "    }\n",
       "\n",
       "    .dataframe thead th {\n",
       "        text-align: left;\n",
       "    }\n",
       "\n",
       "    .dataframe tbody tr th {\n",
       "        vertical-align: top;\n",
       "    }\n",
       "</style>\n",
       "<table border=\"1\" class=\"dataframe\">\n",
       "  <thead>\n",
       "    <tr style=\"text-align: right;\">\n",
       "      <th></th>\n",
       "      <th>age</th>\n",
       "    </tr>\n",
       "    <tr>\n",
       "      <th>playerID</th>\n",
       "      <th></th>\n",
       "    </tr>\n",
       "  </thead>\n",
       "  <tbody>\n",
       "    <tr>\n",
       "      <th>foxxji01</th>\n",
       "      <td>28</td>\n",
       "    </tr>\n",
       "    <tr>\n",
       "      <th>ottme01</th>\n",
       "      <td>28</td>\n",
       "    </tr>\n",
       "    <tr>\n",
       "      <th>pujolal01</th>\n",
       "      <td>28</td>\n",
       "    </tr>\n",
       "    <tr>\n",
       "      <th>jonesan01</th>\n",
       "      <td>28</td>\n",
       "    </tr>\n",
       "    <tr>\n",
       "      <th>rodrial01</th>\n",
       "      <td>28</td>\n",
       "    </tr>\n",
       "  </tbody>\n",
       "</table>\n",
       "</div>"
      ],
      "text/plain": [
       "           age\n",
       "playerID      \n",
       "foxxji01    28\n",
       "ottme01     28\n",
       "pujolal01   28\n",
       "jonesan01   28\n",
       "rodrial01   28"
      ]
     },
     "execution_count": 32,
     "metadata": {},
     "output_type": "execute_result"
    }
   ],
   "source": [
    "batting_sort = batting.sort_values(by=['playerID','yearID'])\n",
    "batting_sort['cumHR'] = batting_sort.groupby('playerID')['HR'].cumsum()\n",
    "YoungTo300 = batting_sort[batting_sort['cumHR'] >= 300].groupby('playerID')['age'].min().sort_values().head(5)\n",
    "pd.DataFrame(YoungTo300)"
   ]
  },
  {
   "cell_type": "markdown",
   "metadata": {
    "collapsed": true
   },
   "source": [
    "## Visualisation\n",
    "#### Graph total HRs per season using bar graph"
   ]
  },
  {
   "cell_type": "code",
   "execution_count": 33,
   "metadata": {},
   "outputs": [
    {
     "data": {
      "text/plain": [
       "Text(0,0.5,'Home Runs')"
      ]
     },
     "execution_count": 33,
     "metadata": {},
     "output_type": "execute_result"
    },
    {
     "data": {
      "image/png": "[encoded data removed]",
      "text/plain": [
       "<matplotlib.figure.Figure at 0x19425f070f0>"
      ]
     },
     "metadata": {},
     "output_type": "display_data"
    }
   ],
   "source": [
    "import matplotlib.pyplot as plt\n",
    "%matplotlib inline\n",
    "ax = batting.groupby('yearID')['HR'].sum().plot(kind='bar',figsize=(25,15),title='Home Runs per Season')\n",
    "ax.set_xlabel('Year')\n",
    "ax.set_ylabel('Home Runs')"
   ]
  },
  {
   "cell_type": "markdown",
   "metadata": {
    "collapsed": true
   },
   "source": [
    "#### Using a line graph please graph the average HRs per AB per season"
   ]
  },
  {
   "cell_type": "code",
   "execution_count": 34,
   "metadata": {},
   "outputs": [
    {
     "data": {
      "text/plain": [
       "<matplotlib.axes._subplots.AxesSubplot at 0x1942a4bec18>"
      ]
     },
     "execution_count": 34,
     "metadata": {},
     "output_type": "execute_result"
    },
    {
     "data": {
      "image/png": "[encoded data removed]",
      "text/plain": [
       "<matplotlib.figure.Figure at 0x1942a466a58>"
      ]
     },
     "metadata": {},
     "output_type": "display_data"
    }
   ],
   "source": [
    "df = batting.groupby('yearID').agg({'HR':'sum','AB':'sum'}).reset_index()\n",
    "df['avg_HR_per_AB'] = df['HR']/df['AB']\n",
    "df[['avg_HR_per_AB','yearID']].plot.line(x='yearID',y='avg_HR_per_AB')"
   ]
  },
  {
   "cell_type": "code",
   "execution_count": null,
   "metadata": {
    "collapsed": true
   },
   "outputs": [],
   "source": []
  }
 ],
 "metadata": {
  "kernelspec": {
   "display_name": "Python 3",
   "language": "python",
   "name": "python3"
  },
  "language_info": {
   "codemirror_mode": {
    "name": "ipython",
    "version": 3
   },
   "file_extension": ".py",
   "mimetype": "text/x-python",
   "name": "python",
   "nbconvert_exporter": "python",
   "pygments_lexer": "ipython3",
   "version": "3.6.3"
  }
 },
 "nbformat": 4,
 "nbformat_minor": 2
}
